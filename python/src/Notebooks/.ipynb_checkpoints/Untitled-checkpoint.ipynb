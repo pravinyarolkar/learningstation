{
 "cells": [
  {
   "cell_type": "code",
   "execution_count": 1,
   "id": "ebc8aba2",
   "metadata": {},
   "outputs": [
    {
     "name": "stdout",
     "output_type": "stream",
     "text": [
      ".\n",
      "['.ipynb_checkpoints', 'Untitled.ipynb']\n",
      "None\n"
     ]
    }
   ],
   "source": [
    "import os\n",
    "print(os.curdir)\n",
    "print(os.listdir())\n",
    "print(os.chdir(\"C:\\\\Users\\\\YarolkarPravin\\\\Downloads\\\\tmp\"))"
   ]
  },
  {
   "cell_type": "code",
   "execution_count": 2,
   "id": "1156dc67",
   "metadata": {},
   "outputs": [
    {
     "name": "stdout",
     "output_type": "stream",
     "text": [
      "inteksonboarding-egress-to-casemgmt\n",
      "inteksonboarding-egress-to-cassandra\n",
      "inteksonboarding-egress-to-cg\n",
      "inteksonboarding-egress-to-clcon\n",
      "inteksonboarding-egress-to-databus\n",
      "inteksonboarding-egress-to-dataplatform\n",
      "inteksonboarding-egress-to-eds\n",
      "inteksonboarding-egress-to-ft\n",
      "inteksonboarding-egress-to-heimdall\n",
      "inteksonboarding-egress-to-identity\n",
      "inteksonboarding-egress-to-kube-master\n",
      "inteksonboarding-egress-to-ld\n",
      "inteksonboarding-egress-to-localint\n",
      "inteksonboarding-egress-to-ltc\n",
      "inteksonboarding-egress-to-onboarding\n",
      "inteksonboarding-egress-to-snapshot\n",
      "\n"
     ]
    }
   ],
   "source": [
    "with open(\"nw_policies_list\", \"r\") as f:\n",
    "    data = f.read()\n",
    "    \n",
    "print(data)\n",
    "    "
   ]
  },
  {
   "cell_type": "code",
   "execution_count": 3,
   "id": "809b2fdd",
   "metadata": {},
   "outputs": [
    {
     "name": "stdout",
     "output_type": "stream",
     "text": [
      "inteksonboarding-egress-to-casemgmt\n",
      "inteksonboarding-egress-to-cassandra\n",
      "inteksonboarding-egress-to-cg\n",
      "inteksonboarding-egress-to-clcon\n",
      "inteksonboarding-egress-to-databus\n",
      "inteksonboarding-egress-to-dataplatform\n",
      "inteksonboarding-egress-to-eds\n",
      "inteksonboarding-egress-to-ft\n",
      "inteksonboarding-egress-to-heimdall\n",
      "inteksonboarding-egress-to-identity\n",
      "inteksonboarding-egress-to-kube-master\n",
      "inteksonboarding-egress-to-ld\n",
      "inteksonboarding-egress-to-localint\n",
      "inteksonboarding-egress-to-ltc\n",
      "inteksonboarding-egress-to-onboarding\n",
      "inteksonboarding-egress-to-snapshot\n",
      "\n"
     ]
    }
   ],
   "source": [
    "f = open('nw_policies_list', 'r')\n",
    "print(f.read())\n",
    "\n",
    "f.close()"
   ]
  },
  {
   "cell_type": "code",
   "execution_count": 12,
   "id": "02477e7f",
   "metadata": {},
   "outputs": [
    {
     "name": "stdout",
     "output_type": "stream",
     "text": [
      "C:\\Users\\YarolkarPravin\\Downloads\\tmp\n",
      "['1234.drawio', 'all_nw_policies_list', 'bulkTenantList.drawio', 'cayosoft.JPG', 'demo_arch_diagram.drawio', 'extended_nw_policies_list', 'flags_ld', 'Food Menu', 'logger', 'MAR TSDE-11191', 'nw_policies_list', 'onboardingCacheIntegration.drawio', 'onboarding_nw_policy.yaml', 'onecloud', 'output_settings_result.txt', 'resetPass.JPG', 'sorted_data.txt', 'source merge', 'tempDir', 'test.drawio', 'wipeDataSf.drawio']\n"
     ]
    },
    {
     "ename": "PermissionError",
     "evalue": "[Errno 13] Permission denied: 'C:\\\\Users\\\\YarolkarPravin\\\\Downloads\\\\tmp\\\\tempDir'",
     "output_type": "error",
     "traceback": [
      "\u001b[1;31m---------------------------------------------------------------------------\u001b[0m",
      "\u001b[1;31mPermissionError\u001b[0m                           Traceback (most recent call last)",
      "Cell \u001b[1;32mIn[12], line 7\u001b[0m\n\u001b[0;32m      4\u001b[0m \u001b[38;5;66;03m# print(os.makedirs('tempDir'))\u001b[39;00m\n\u001b[0;32m      5\u001b[0m \u001b[38;5;28;01mimport\u001b[39;00m \u001b[38;5;21;01mshutil\u001b[39;00m\n\u001b[1;32m----> 7\u001b[0m \u001b[43mshutil\u001b[49m\u001b[38;5;241;43m.\u001b[39;49m\u001b[43mcopyfile\u001b[49m\u001b[43m(\u001b[49m\u001b[38;5;124;43m'\u001b[39;49m\u001b[38;5;124;43mnw_policies_list\u001b[39;49m\u001b[38;5;124;43m'\u001b[39;49m\u001b[43m,\u001b[49m\u001b[43m \u001b[49m\u001b[38;5;124;43m\"\u001b[39;49m\u001b[38;5;124;43mC:\u001b[39;49m\u001b[38;5;130;43;01m\\\\\u001b[39;49;00m\u001b[38;5;124;43mUsers\u001b[39;49m\u001b[38;5;130;43;01m\\\\\u001b[39;49;00m\u001b[38;5;124;43mYarolkarPravin\u001b[39;49m\u001b[38;5;130;43;01m\\\\\u001b[39;49;00m\u001b[38;5;124;43mDownloads\u001b[39;49m\u001b[38;5;130;43;01m\\\\\u001b[39;49;00m\u001b[38;5;124;43mtmp\u001b[39;49m\u001b[38;5;130;43;01m\\\\\u001b[39;49;00m\u001b[38;5;124;43mtempDir\u001b[39;49m\u001b[38;5;124;43m\"\u001b[39;49m\u001b[43m)\u001b[49m\n",
      "File \u001b[1;32m~\\anaconda3\\lib\\shutil.py:256\u001b[0m, in \u001b[0;36mcopyfile\u001b[1;34m(src, dst, follow_symlinks)\u001b[0m\n\u001b[0;32m    254\u001b[0m \u001b[38;5;28;01mwith\u001b[39;00m \u001b[38;5;28mopen\u001b[39m(src, \u001b[38;5;124m'\u001b[39m\u001b[38;5;124mrb\u001b[39m\u001b[38;5;124m'\u001b[39m) \u001b[38;5;28;01mas\u001b[39;00m fsrc:\n\u001b[0;32m    255\u001b[0m     \u001b[38;5;28;01mtry\u001b[39;00m:\n\u001b[1;32m--> 256\u001b[0m         \u001b[38;5;28;01mwith\u001b[39;00m \u001b[38;5;28;43mopen\u001b[39;49m\u001b[43m(\u001b[49m\u001b[43mdst\u001b[49m\u001b[43m,\u001b[49m\u001b[43m \u001b[49m\u001b[38;5;124;43m'\u001b[39;49m\u001b[38;5;124;43mwb\u001b[39;49m\u001b[38;5;124;43m'\u001b[39;49m\u001b[43m)\u001b[49m \u001b[38;5;28;01mas\u001b[39;00m fdst:\n\u001b[0;32m    257\u001b[0m             \u001b[38;5;66;03m# macOS\u001b[39;00m\n\u001b[0;32m    258\u001b[0m             \u001b[38;5;28;01mif\u001b[39;00m _HAS_FCOPYFILE:\n\u001b[0;32m    259\u001b[0m                 \u001b[38;5;28;01mtry\u001b[39;00m:\n",
      "\u001b[1;31mPermissionError\u001b[0m: [Errno 13] Permission denied: 'C:\\\\Users\\\\YarolkarPravin\\\\Downloads\\\\tmp\\\\tempDir'"
     ]
    }
   ],
   "source": [
    "import os\n",
    "print(os.getcwd())\n",
    "print(os.listdir())\n",
    "# print(os.makedirs('tempDir'))\n",
    "import shutil\n",
    "\n",
    "shutil.copyfile('nw_policies_list', \"C:\\\\Users\\\\YarolkarPravin\\\\Downloads\\\\tmp\\\\tempDir\")\n"
   ]
  },
  {
   "cell_type": "code",
   "execution_count": 1,
   "id": "587386b3",
   "metadata": {},
   "outputs": [
    {
     "ename": "SyntaxError",
     "evalue": "cannot assign to expression (1892922658.py, line 1)",
     "output_type": "error",
     "traceback": [
      "\u001b[1;36m  Cell \u001b[1;32mIn[1], line 1\u001b[1;36m\u001b[0m\n\u001b[1;33m    for dirname, sub-dirs, files in os.walk(\"C:\\\\Users\\\\YarolkarPravin\\\\Downloads\\\\tmp\\\\source merge\\\\non ld onboarding\\\\onboarding\\\\components\\\\api\\\\src\\\\deployer\\\\tests\\\\services\"):\u001b[0m\n\u001b[1;37m                 ^\u001b[0m\n\u001b[1;31mSyntaxError\u001b[0m\u001b[1;31m:\u001b[0m cannot assign to expression\n"
     ]
    }
   ],
   "source": [
    "for dirname, sub-dirs, files in os.walk(\"C:\\\\Users\\\\YarolkarPravin\\\\Downloads\\\\tmp\\\\source merge\\\\non ld onboarding\\\\onboarding\\\\components\\\\api\\\\src\\\\deployer\\\\tests\\\\services\"):\n",
    "    print(dirname)\n",
    "    for d in sub-dirs:\n",
    "        print(f\"---------------> {d}\")\n",
    "    for f in files:\n",
    "        print(f\" . . . . . . {f}\")"
   ]
  },
  {
   "cell_type": "code",
   "execution_count": 12,
   "id": "b41c4503",
   "metadata": {},
   "outputs": [
    {
     "name": "stdout",
     "output_type": "stream",
     "text": [
      "True\n",
      "True\n",
      "False\n"
     ]
    }
   ],
   "source": [
    "s = str()\n",
    "var = int()\n",
    "\n",
    "print(isinstance(s, str))\n",
    "print(isinstance(var, int))\n",
    "print(isinstance(var, str))"
   ]
  },
  {
   "cell_type": "code",
   "execution_count": 15,
   "id": "2cb8777d",
   "metadata": {},
   "outputs": [
    {
     "data": {
      "text/plain": [
       "['BPF',\n",
       " 'LOG4',\n",
       " 'NV_MAGICCONST',\n",
       " 'RECIP_BPF',\n",
       " 'Random',\n",
       " 'SG_MAGICCONST',\n",
       " 'SystemRandom',\n",
       " 'TWOPI',\n",
       " '_ONE',\n",
       " '_Sequence',\n",
       " '_Set',\n",
       " '__all__',\n",
       " '__builtins__',\n",
       " '__cached__',\n",
       " '__doc__',\n",
       " '__file__',\n",
       " '__loader__',\n",
       " '__name__',\n",
       " '__package__',\n",
       " '__spec__',\n",
       " '_accumulate',\n",
       " '_acos',\n",
       " '_bisect',\n",
       " '_ceil',\n",
       " '_cos',\n",
       " '_e',\n",
       " '_exp',\n",
       " '_floor',\n",
       " '_index',\n",
       " '_inst',\n",
       " '_isfinite',\n",
       " '_log',\n",
       " '_os',\n",
       " '_pi',\n",
       " '_random',\n",
       " '_repeat',\n",
       " '_sha512',\n",
       " '_sin',\n",
       " '_sqrt',\n",
       " '_test',\n",
       " '_test_generator',\n",
       " '_urandom',\n",
       " '_warn',\n",
       " 'betavariate',\n",
       " 'choice',\n",
       " 'choices',\n",
       " 'expovariate',\n",
       " 'gammavariate',\n",
       " 'gauss',\n",
       " 'getrandbits',\n",
       " 'getstate',\n",
       " 'lognormvariate',\n",
       " 'normalvariate',\n",
       " 'paretovariate',\n",
       " 'randbytes',\n",
       " 'randint',\n",
       " 'random',\n",
       " 'randrange',\n",
       " 'sample',\n",
       " 'seed',\n",
       " 'setstate',\n",
       " 'shuffle',\n",
       " 'triangular',\n",
       " 'uniform',\n",
       " 'vonmisesvariate',\n",
       " 'weibullvariate']"
      ]
     },
     "execution_count": 15,
     "metadata": {},
     "output_type": "execute_result"
    }
   ],
   "source": [
    "import random\n",
    "dir(random)"
   ]
  },
  {
   "cell_type": "code",
   "execution_count": 18,
   "id": "0914fa89",
   "metadata": {},
   "outputs": [
    {
     "name": "stdout",
     "output_type": "stream",
     "text": [
      "['VERSION', '__class__', '__delattr__', '__dict__', '__dir__', '__doc__', '__eq__', '__format__', '__ge__', '__getattribute__', '__getstate__', '__gt__', '__hash__', '__init__', '__init_subclass__', '__le__', '__lt__', '__module__', '__ne__', '__new__', '__reduce__', '__reduce_ex__', '__repr__', '__setattr__', '__setstate__', '__sizeof__', '__str__', '__subclasshook__', '__weakref__', '_randbelow', '_randbelow_with_getrandbits', '_randbelow_without_getrandbits', 'betavariate', 'choice', 'choices', 'expovariate', 'gammavariate', 'gauss', 'getrandbits', 'getstate', 'lognormvariate', 'normalvariate', 'paretovariate', 'randbytes', 'randint', 'random', 'randrange', 'sample', 'seed', 'setstate', 'shuffle', 'triangular', 'uniform', 'vonmisesvariate', 'weibullvariate']\n"
     ]
    }
   ],
   "source": [
    "print(dir(random.Random))"
   ]
  },
  {
   "cell_type": "code",
   "execution_count": 22,
   "id": "3469c934",
   "metadata": {},
   "outputs": [
    {
     "name": "stdout",
     "output_type": "stream",
     "text": [
      "['__call__', '__class__', '__delattr__', '__dir__', '__doc__', '__eq__', '__format__', '__ge__', '__getattribute__', '__gt__', '__hash__', '__init__', '__init_subclass__', '__le__', '__lt__', '__module__', '__name__', '__ne__', '__new__', '__qualname__', '__reduce__', '__reduce_ex__', '__repr__', '__self__', '__setattr__', '__sizeof__', '__str__', '__subclasshook__', '__text_signature__']\n",
      "<class 'builtin_function_or_method'>\n",
      "Help on built-in function random:\n",
      "\n",
      "random() method of random.Random instance\n",
      "    random() -> x in the interval [0, 1).\n",
      "\n",
      "None\n"
     ]
    }
   ],
   "source": [
    "print(dir(random.random))\n",
    "print(type(random.random))\n",
    "print(help(random.random))"
   ]
  },
  {
   "cell_type": "code",
   "execution_count": 27,
   "id": "c7e14598",
   "metadata": {},
   "outputs": [
    {
     "name": "stdout",
     "output_type": "stream",
     "text": [
      "489\n"
     ]
    }
   ],
   "source": [
    "obj = random.Random()\n",
    "print(obj.randint(20,2000))\n"
   ]
  },
  {
   "cell_type": "code",
   "execution_count": 30,
   "id": "0261db93",
   "metadata": {},
   "outputs": [
    {
     "name": "stdout",
     "output_type": "stream",
     "text": [
      "Help on method randrange in module random:\n",
      "\n",
      "randrange(start, stop=None, step=1) method of random.Random instance\n",
      "    Choose a random item from range(start, stop[, step]).\n",
      "    \n",
      "    This fixes the problem with randint() which includes the\n",
      "    endpoint; in Python this is usually not what you want.\n",
      "\n",
      "None\n"
     ]
    }
   ],
   "source": [
    "print(help(random.randrange))"
   ]
  },
  {
   "cell_type": "code",
   "execution_count": 32,
   "id": "f92a5f9a",
   "metadata": {},
   "outputs": [
    {
     "name": "stdout",
     "output_type": "stream",
     "text": [
      "Help on method seed in module random:\n",
      "\n",
      "seed(a=None, version=2) method of random.Random instance\n",
      "    Initialize internal state from a seed.\n",
      "    \n",
      "    The only supported seed types are None, int, float,\n",
      "    str, bytes, and bytearray.\n",
      "    \n",
      "    None or no argument seeds from current time or from an operating\n",
      "    system specific randomness source if available.\n",
      "    \n",
      "    If *a* is an int, all bits are used.\n",
      "    \n",
      "    For version 2 (the default), all of the bits are used if *a* is a str,\n",
      "    bytes, or bytearray.  For version 1 (provided for reproducing random\n",
      "    sequences from older versions of Python), the algorithm for str and\n",
      "    bytes generates a narrower range of seeds.\n",
      "\n"
     ]
    }
   ],
   "source": [
    "help(random.seed)"
   ]
  },
  {
   "cell_type": "code",
   "execution_count": 15,
   "id": "670d8c9d",
   "metadata": {},
   "outputs": [
    {
     "name": "stdout",
     "output_type": "stream",
     "text": [
      "7\n"
     ]
    }
   ],
   "source": [
    "import random\n",
    "\n",
    "def roll_dice():\n",
    "    nums = list(range(1,7))\n",
    "    ch = random.choice(nums)\n",
    "    return int(ch)\n",
    "\n",
    "func = roll_dice\n",
    "print(func())"
   ]
  }
 ],
 "metadata": {
  "kernelspec": {
   "display_name": "Python 3 (ipykernel)",
   "language": "python",
   "name": "python3"
  },
  "language_info": {
   "codemirror_mode": {
    "name": "ipython",
    "version": 3
   },
   "file_extension": ".py",
   "mimetype": "text/x-python",
   "name": "python",
   "nbconvert_exporter": "python",
   "pygments_lexer": "ipython3",
   "version": "3.10.9"
  }
 },
 "nbformat": 4,
 "nbformat_minor": 5
}
