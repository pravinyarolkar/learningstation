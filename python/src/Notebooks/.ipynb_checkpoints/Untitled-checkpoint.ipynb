{
 "cells": [
  {
   "cell_type": "code",
   "execution_count": 1,
   "id": "ebc8aba2",
   "metadata": {},
   "outputs": [
    {
     "name": "stdout",
     "output_type": "stream",
     "text": [
      ".\n",
      "['.ipynb_checkpoints', 'Untitled.ipynb']\n",
      "None\n"
     ]
    }
   ],
   "source": [
    "import os\n",
    "print(os.curdir)\n",
    "print(os.listdir())\n",
    "print(os.chdir(\"C:\\\\Users\\\\YarolkarPravin\\\\Downloads\\\\tmp\"))"
   ]
  },
  {
   "cell_type": "code",
   "execution_count": 2,
   "id": "1156dc67",
   "metadata": {},
   "outputs": [
    {
     "name": "stdout",
     "output_type": "stream",
     "text": [
      "inteksonboarding-egress-to-casemgmt\n",
      "inteksonboarding-egress-to-cassandra\n",
      "inteksonboarding-egress-to-cg\n",
      "inteksonboarding-egress-to-clcon\n",
      "inteksonboarding-egress-to-databus\n",
      "inteksonboarding-egress-to-dataplatform\n",
      "inteksonboarding-egress-to-eds\n",
      "inteksonboarding-egress-to-ft\n",
      "inteksonboarding-egress-to-heimdall\n",
      "inteksonboarding-egress-to-identity\n",
      "inteksonboarding-egress-to-kube-master\n",
      "inteksonboarding-egress-to-ld\n",
      "inteksonboarding-egress-to-localint\n",
      "inteksonboarding-egress-to-ltc\n",
      "inteksonboarding-egress-to-onboarding\n",
      "inteksonboarding-egress-to-snapshot\n",
      "\n"
     ]
    }
   ],
   "source": [
    "with open(\"nw_policies_list\", \"r\") as f:\n",
    "    data = f.read()\n",
    "    \n",
    "print(data)\n",
    "    "
   ]
  },
  {
   "cell_type": "code",
   "execution_count": 3,
   "id": "809b2fdd",
   "metadata": {},
   "outputs": [
    {
     "name": "stdout",
     "output_type": "stream",
     "text": [
      "inteksonboarding-egress-to-casemgmt\n",
      "inteksonboarding-egress-to-cassandra\n",
      "inteksonboarding-egress-to-cg\n",
      "inteksonboarding-egress-to-clcon\n",
      "inteksonboarding-egress-to-databus\n",
      "inteksonboarding-egress-to-dataplatform\n",
      "inteksonboarding-egress-to-eds\n",
      "inteksonboarding-egress-to-ft\n",
      "inteksonboarding-egress-to-heimdall\n",
      "inteksonboarding-egress-to-identity\n",
      "inteksonboarding-egress-to-kube-master\n",
      "inteksonboarding-egress-to-ld\n",
      "inteksonboarding-egress-to-localint\n",
      "inteksonboarding-egress-to-ltc\n",
      "inteksonboarding-egress-to-onboarding\n",
      "inteksonboarding-egress-to-snapshot\n",
      "\n"
     ]
    }
   ],
   "source": [
    "f = open('nw_policies_list', 'r')\n",
    "print(f.read())\n",
    "\n",
    "f.close()"
   ]
  },
  {
   "cell_type": "code",
   "execution_count": 12,
   "id": "02477e7f",
   "metadata": {},
   "outputs": [
    {
     "name": "stdout",
     "output_type": "stream",
     "text": [
      "C:\\Users\\YarolkarPravin\\Downloads\\tmp\n",
      "['1234.drawio', 'all_nw_policies_list', 'bulkTenantList.drawio', 'cayosoft.JPG', 'demo_arch_diagram.drawio', 'extended_nw_policies_list', 'flags_ld', 'Food Menu', 'logger', 'MAR TSDE-11191', 'nw_policies_list', 'onboardingCacheIntegration.drawio', 'onboarding_nw_policy.yaml', 'onecloud', 'output_settings_result.txt', 'resetPass.JPG', 'sorted_data.txt', 'source merge', 'tempDir', 'test.drawio', 'wipeDataSf.drawio']\n"
     ]
    },
    {
     "ename": "PermissionError",
     "evalue": "[Errno 13] Permission denied: 'C:\\\\Users\\\\YarolkarPravin\\\\Downloads\\\\tmp\\\\tempDir'",
     "output_type": "error",
     "traceback": [
      "\u001b[1;31m---------------------------------------------------------------------------\u001b[0m",
      "\u001b[1;31mPermissionError\u001b[0m                           Traceback (most recent call last)",
      "Cell \u001b[1;32mIn[12], line 7\u001b[0m\n\u001b[0;32m      4\u001b[0m \u001b[38;5;66;03m# print(os.makedirs('tempDir'))\u001b[39;00m\n\u001b[0;32m      5\u001b[0m \u001b[38;5;28;01mimport\u001b[39;00m \u001b[38;5;21;01mshutil\u001b[39;00m\n\u001b[1;32m----> 7\u001b[0m \u001b[43mshutil\u001b[49m\u001b[38;5;241;43m.\u001b[39;49m\u001b[43mcopyfile\u001b[49m\u001b[43m(\u001b[49m\u001b[38;5;124;43m'\u001b[39;49m\u001b[38;5;124;43mnw_policies_list\u001b[39;49m\u001b[38;5;124;43m'\u001b[39;49m\u001b[43m,\u001b[49m\u001b[43m \u001b[49m\u001b[38;5;124;43m\"\u001b[39;49m\u001b[38;5;124;43mC:\u001b[39;49m\u001b[38;5;130;43;01m\\\\\u001b[39;49;00m\u001b[38;5;124;43mUsers\u001b[39;49m\u001b[38;5;130;43;01m\\\\\u001b[39;49;00m\u001b[38;5;124;43mYarolkarPravin\u001b[39;49m\u001b[38;5;130;43;01m\\\\\u001b[39;49;00m\u001b[38;5;124;43mDownloads\u001b[39;49m\u001b[38;5;130;43;01m\\\\\u001b[39;49;00m\u001b[38;5;124;43mtmp\u001b[39;49m\u001b[38;5;130;43;01m\\\\\u001b[39;49;00m\u001b[38;5;124;43mtempDir\u001b[39;49m\u001b[38;5;124;43m\"\u001b[39;49m\u001b[43m)\u001b[49m\n",
      "File \u001b[1;32m~\\anaconda3\\lib\\shutil.py:256\u001b[0m, in \u001b[0;36mcopyfile\u001b[1;34m(src, dst, follow_symlinks)\u001b[0m\n\u001b[0;32m    254\u001b[0m \u001b[38;5;28;01mwith\u001b[39;00m \u001b[38;5;28mopen\u001b[39m(src, \u001b[38;5;124m'\u001b[39m\u001b[38;5;124mrb\u001b[39m\u001b[38;5;124m'\u001b[39m) \u001b[38;5;28;01mas\u001b[39;00m fsrc:\n\u001b[0;32m    255\u001b[0m     \u001b[38;5;28;01mtry\u001b[39;00m:\n\u001b[1;32m--> 256\u001b[0m         \u001b[38;5;28;01mwith\u001b[39;00m \u001b[38;5;28;43mopen\u001b[39;49m\u001b[43m(\u001b[49m\u001b[43mdst\u001b[49m\u001b[43m,\u001b[49m\u001b[43m \u001b[49m\u001b[38;5;124;43m'\u001b[39;49m\u001b[38;5;124;43mwb\u001b[39;49m\u001b[38;5;124;43m'\u001b[39;49m\u001b[43m)\u001b[49m \u001b[38;5;28;01mas\u001b[39;00m fdst:\n\u001b[0;32m    257\u001b[0m             \u001b[38;5;66;03m# macOS\u001b[39;00m\n\u001b[0;32m    258\u001b[0m             \u001b[38;5;28;01mif\u001b[39;00m _HAS_FCOPYFILE:\n\u001b[0;32m    259\u001b[0m                 \u001b[38;5;28;01mtry\u001b[39;00m:\n",
      "\u001b[1;31mPermissionError\u001b[0m: [Errno 13] Permission denied: 'C:\\\\Users\\\\YarolkarPravin\\\\Downloads\\\\tmp\\\\tempDir'"
     ]
    }
   ],
   "source": [
    "import os\n",
    "print(os.getcwd())\n",
    "print(os.listdir())\n",
    "# print(os.makedirs('tempDir'))\n",
    "import shutil\n",
    "\n",
    "shutil.copyfile('nw_policies_list', \"C:\\\\Users\\\\YarolkarPravin\\\\Downloads\\\\tmp\\\\tempDir\")\n"
   ]
  },
  {
   "cell_type": "code",
   "execution_count": 23,
   "id": "587386b3",
   "metadata": {},
   "outputs": [
    {
     "name": "stdout",
     "output_type": "stream",
     "text": [
      "C:\\Users\\YarolkarPravin\\Downloads\\tmp\\source merge\\non ld onboarding\\onboarding\\components\\api\\src\\deployer\\tests\\services\n",
      "---------------> ['contentgovernance', 'heimdall']\n",
      "['__init__.py']\n",
      "C:\\Users\\YarolkarPravin\\Downloads\\tmp\\source merge\\non ld onboarding\\onboarding\\components\\api\\src\\deployer\\tests\\services\\contentgovernance\n",
      "---------------> []\n",
      "['schemadeployment_tests.py', '__init__.py']\n",
      "C:\\Users\\YarolkarPravin\\Downloads\\tmp\\source merge\\non ld onboarding\\onboarding\\components\\api\\src\\deployer\\tests\\services\\heimdall\n",
      "---------------> []\n",
      "['heimdallrt_tests.py', '__init__.py']\n"
     ]
    }
   ],
   "source": [
    "for file, files, path in os.walk(\"C:\\\\Users\\\\YarolkarPravin\\\\Downloads\\\\tmp\\\\source merge\\\\non ld onboarding\\\\onboarding\\\\components\\\\api\\\\src\\\\deployer\\\\tests\\\\services\"):\n",
    "    print(file)\n",
    "    for d in files:\n",
    "        print(f\"---------------> {d}\")\n",
    "    print(path)"
   ]
  }
 ],
 "metadata": {
  "kernelspec": {
   "display_name": "Python 3 (ipykernel)",
   "language": "python",
   "name": "python3"
  },
  "language_info": {
   "codemirror_mode": {
    "name": "ipython",
    "version": 3
   },
   "file_extension": ".py",
   "mimetype": "text/x-python",
   "name": "python",
   "nbconvert_exporter": "python",
   "pygments_lexer": "ipython3",
   "version": "3.10.9"
  }
 },
 "nbformat": 4,
 "nbformat_minor": 5
}
